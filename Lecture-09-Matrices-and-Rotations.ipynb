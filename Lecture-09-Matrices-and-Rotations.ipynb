{
 "cells": [
  {
   "cell_type": "markdown",
   "metadata": {},
   "source": [
    "# Laboratory 09: Matrices and Rotations (Crystallography)"
   ]
  },
  {
   "cell_type": "markdown",
   "metadata": {},
   "source": [
    "## Background\n",
    "\n",
    "The purpose of this laboratory is to understand and apply the concept of an agebraic group to produce one of the plane group patterns below.  In this context, algebraic groups are mathematical objects that represent a collection of geometric transformations and are used in the study of crystallography.  For example, when you say that is crystal is \"face centered cubic\" what you are really saying is that an atomic motif, when transformed by all the algebraic elements of a particular group, will be identical to the face centered cubic structure.  The group is the mathematical machinary of crystal structures.  The group itself is an abstract idea that is embodied in a crystal structure, a geometric design, a geometric series, a set of matrices, or a set of any kind where the rules that govern the set meet the criteria of a group.  The idea of a group exists beyond the example I present here."
   ]
  },
  {
   "cell_type": "markdown",
   "metadata": {},
   "source": [
    "## What Skills Will I Learn?\n",
    "\n",
    "Using the context of two-dimensional plane groups, in this assignment you will practice the following skills:\n",
    "\n",
    "* Identifying a symmetry operation (rotation, translation, mirror) and determining the associated matrix representation.\n",
    "* Applying a symmetry operation to a position vector to transform the vector (or collection of vectors).\n",
    "* Seeing the inner workings of a class object and its attributes for the purpose of simplifying a computing task.\n",
    "* Using lists to collect and organize objects (such as transformation matrices)"
   ]
  },
  {
   "cell_type": "markdown",
   "metadata": {},
   "source": [
    "## What Steps Should I Take?\n",
    "\n",
    "1.  Review the idea of \"symmetry operations\" and familarize yourself with mirror, translational, and rotational symmetry operations.\n",
    "1.  Review the idea of matrix transformations and how they can be used to represent symmetry operations and how those symmetry operations can be represented as a matrix/vector dot product.\n",
    "1.  Read about the metric tensor below and practice a few calculations of lengths and angles in unit cell coordinates.\n",
    "1.  Read and practice writing down 2D, 3D and 3D augmented transformation matrices and learn how Euler angles are defined.\n",
    "1.  For each case above, use a position vector pointing in a direction you select and apply a transformation using each matrix in turn.  Does the resultant vector match your anticipated transformation?  (e.g. If you take the position vector pointing at the [0,0,1] position in a cubic lattice and apply a 90 degree rotation about the x-axis, where should the resultant vector be pointing?  Repeat this for mirror planes and translations.\n",
    "1. Review the concept of a \"class\" in object oriented programming and familarize yourself with the `Point` and `Triangle` classes I have defined below.  Practice creating these objects and accessing their attributes.\n",
    "1. Review the code that accesses the Python Imaging Library (PIL) and look at the `polygon` function call and the `Triangle` points method.  You can call the points method from within the polygon function to simplify the drawing of triangles.\n",
    "1.  Using the `Point` and `Triangle` classes and your knowledge of symmetry transformations, reproduce one of the plane groups from the figure below.  My suggestion is to start with a single triangle and apply a set of operations (transformation matrices) and collect new triangles into a list.  Sketch a flowchart for how you might solve this problem.\n",
    "1.  Review the very last block of code in this notebook and modify it to complete the assignment.  You will need to use combinations of translations, reflections and rotations to accomplish this.    \n",
    "1.  Prepare a new notebook (not just modifications to this one) that describes your approach to reproducing one or more of the plane groups.\n",
    "\n",
    "You may discover that a unique set of matrices will reproduce the whole pattern.  This small set of matrices are an algebraic structure known as a **group**.  So - the \"plane group\" is the group of symmetry operations that reproduces the structure in the plane starting from a single motif.  The plane group representations are reproduced below for reference; this image comes from Hammond's book on crystallography, cited above.\n",
    "\n",
    "## A Sucessful Jupyter Notebook Will\n",
    "\n",
    "* Present a description of the essential elements of plane group symmetry, matrix algebra, and group theory to understand how these are related;\n",
    "* Identify the audience for which the work is intended;\n",
    "* Run the code necessary to draw one of the plane groups;\n",
    "* Provide a narrative and equations to explain why your approach is relevant to solving the problem;\n",
    "* Provide references and citations to any others' work you use to complete the assignment;\n",
    "* Be checked into your GitHub repository by the due date (one week from assignment).\n",
    "\n",
    "A high quality communication provides an organized, logically progressing, blend of narrative, equations, and code that teaches the reader a particular topic or idea.  You will be assessed on:\n",
    "* The functionality of the code (i.e. it should perform the task assigned).\n",
    "* The narrative you present.  I should be able to read and learn from it.  Choose your audience wisely.\n",
    "* The supporting equations and figures you choose to include.\n",
    "\n",
    "If your notebook is just computer code your assignment will be marked incomplete."
   ]
  },
  {
   "cell_type": "markdown",
   "metadata": {},
   "source": [
    "## Reading and Reference\n",
    "\n",
    "* M. De Graef and M. McHenry, Structure of Materials, Cambridge University Press, 2nd ed.\n",
    "* C. Hammond, The Basics of Crystallography and Diffraction, Oxford Science Publications, 4th ed."
   ]
  },
  {
   "cell_type": "markdown",
   "metadata": {},
   "source": [
    "## The Plane Groups\n",
    "\n",
    "![](./images/planeGroups.png)"
   ]
  },
  {
   "cell_type": "markdown",
   "metadata": {},
   "source": [
    "### Introduction\n",
    "----\n",
    "\n",
    "Operations using vector-like data structures are an essential component of numerical computing, mathematics, science and engineering.  In the field of crystallography the use of vectors and rotations in real and reciprocal space helps to simplify the description of and quantitative operations on crystal structures.  Matrix operations are used in the solution of partial differential equations.  The vector algebra and rotations are most easily performed using matrix tools and representations.  The concepts and their mathematical properties will be reviewed and demonstrated using symbolic algebra and numerical methods.  A review of matrix algebra will be helpful."
   ]
  },
  {
   "cell_type": "markdown",
   "metadata": {},
   "source": [
    "### Rotations\n",
    "----\n",
    "\n",
    "A vector can be transformed by translations, rotations, and stretching/shrinking.  A matrix multiplication operation can be used to define each individual operation.  We can use matrix multiplication to perform combinations of these operations and then this composite operator can be applied to a vector.  In general these types of transformations are called Affine Transformations.  A rotation in two dimensions is given by:\n",
    "\n",
    "\\begin{equation*}\n",
    "\\left[\\begin{matrix}\\cos{\\left (\\theta \\right )} & - \\sin{\\left (\\theta \\right )}\\\\\\sin{\\left (\\theta \\right )} & \\cos{\\left (\\theta \\right )}\\end{matrix}\\right]\n",
    "\\end{equation*}\n",
    "\n",
    "We can rotate a vector $x\\mathbf{i} + y\\mathbf{j}$ to the position $x'\\mathbf{i} + y'\\mathbf{j}$ using the following matrix operation:\n",
    "\n",
    "\\begin{equation*}\n",
    "\\left( \\begin{matrix} x' \\\\ y' \\end{matrix} \\right) = \\left[\\begin{matrix}\\cos{\\left (\\theta \\right )} & - \\sin{\\left (\\theta \\right )}\\\\\\sin{\\left (\\theta \\right )} & \\cos{\\left (\\theta \\right )}\\end{matrix}\\right] \\cdot \\left( \\begin{matrix} x \\\\ y \\end{matrix} \\right)\n",
    "\\end{equation*}"
   ]
  },
  {
   "cell_type": "code",
   "execution_count": null,
   "metadata": {},
   "outputs": [],
   "source": [
    "%matplotlib inline\n",
    "\n",
    "import numpy as np\n",
    "import sympy as sp\n",
    "sp.init_session(quiet=True)"
   ]
  },
  {
   "cell_type": "code",
   "execution_count": null,
   "metadata": {},
   "outputs": [],
   "source": [
    "?sp.rot_axis3"
   ]
  },
  {
   "cell_type": "code",
   "execution_count": null,
   "metadata": {},
   "outputs": [],
   "source": [
    "x = sp.symbols('\\\\theta')\n",
    "sp.rot_axis3(x)"
   ]
  },
  {
   "cell_type": "markdown",
   "metadata": {},
   "source": [
    "We can look up definitions, but we can also do some simple tests to see which way things rotate.  Let us take a vector pointing in the $\\mathbf{x}$ direction and rotate it about $\\mathbf{z}$ by 90 degrees and see what happens:"
   ]
  },
  {
   "cell_type": "code",
   "execution_count": null,
   "metadata": {},
   "outputs": [],
   "source": [
    "xUnit = sp.Matrix([1,0,0])\n",
    "zRotation = sp.rot_axis3(sp.rad(90))"
   ]
  },
  {
   "cell_type": "code",
   "execution_count": null,
   "metadata": {},
   "outputs": [],
   "source": [
    "xUnit"
   ]
  },
  {
   "cell_type": "code",
   "execution_count": null,
   "metadata": {
    "scrolled": true
   },
   "outputs": [],
   "source": [
    "# Each column can be viewed as where the unit vectors are moved to in the new space.\n",
    "zRotation"
   ]
  },
  {
   "cell_type": "code",
   "execution_count": null,
   "metadata": {},
   "outputs": [],
   "source": [
    "zRotation*xUnit"
   ]
  },
  {
   "cell_type": "code",
   "execution_count": null,
   "metadata": {
    "scrolled": false
   },
   "outputs": [],
   "source": [
    "# This should not work.\n",
    "xUnit*zRotation"
   ]
  },
  {
   "cell_type": "code",
   "execution_count": null,
   "metadata": {},
   "outputs": [],
   "source": [
    "xUnit.T*zRotation"
   ]
  },
  {
   "cell_type": "markdown",
   "metadata": {},
   "source": [
    "What can we learn from this result?  It is now known that:\n",
    "\n",
    "* The convention for positive angles is a *counterclockwise* rotation.\n",
    "* The rotation axis function in `sympy` as defined rotates *clockwise*\n",
    "* There are conventions about active and passive rotations.\n",
    "* Don't assume module functions will do what you want - always check.\n",
    "\n",
    "Rather than rely on module functions, we can define our own rotation function.  Using a function called \"isclose\" or Boolean indexing it is possible to clean up the arrays and remove small numerical values that should be zeros."
   ]
  },
  {
   "cell_type": "code",
   "execution_count": null,
   "metadata": {},
   "outputs": [],
   "source": [
    "def rotation2D(theta):\n",
    "    return np.array([[np.cos(theta), np.sin(theta)],\n",
    "                     [-np.sin(theta),  np.cos(theta)]])"
   ]
  },
  {
   "cell_type": "code",
   "execution_count": null,
   "metadata": {},
   "outputs": [],
   "source": [
    "testArray = rotation2D(0)\n",
    "testArray"
   ]
  },
  {
   "cell_type": "code",
   "execution_count": null,
   "metadata": {},
   "outputs": [],
   "source": [
    "np.dot(np.array([1,0]),testArray)"
   ]
  },
  {
   "cell_type": "markdown",
   "metadata": {},
   "source": [
    "### DIY:  Computing Rotation Matrices\n",
    "----\n",
    "\n",
    "Compute the following rotation matrices:\n",
    "\n",
    "* A rotation of 0$^\\circ$ about the origin.\n",
    "* A rotation of 45$^\\circ$ about the origin.\n",
    "* A rotation of 60$^\\circ$ about the origin.\n",
    "* A rotation of 90$^\\circ$ about the origin.\n",
    "* A rotation of 180$^\\circ$ about the origin.\n",
    "* A rotation of -270$^\\circ$ about the origin."
   ]
  },
  {
   "cell_type": "code",
   "execution_count": 3,
   "metadata": {},
   "outputs": [
    {
     "data": {
      "text/plain": [
       "array([[ 6.123234e-17,  1.000000e+00],\n",
       "       [-1.000000e+00,  6.123234e-17],\n",
       "       [ 0.000000e+00,  0.000000e+00]])"
      ]
     },
     "execution_count": 3,
     "metadata": {},
     "output_type": "execute_result"
    }
   ],
   "source": [
    "# Put your code here.\n",
    "import numpy as np\n",
    "\n",
    "def rotation2D(theta):\n",
    "    return np.array([[np.cos(theta), np.sin(theta)],\n",
    "                     [-np.sin(theta),  np.cos(theta)]])\n",
    "trianglePoints = [(1,0),(0,1),(0,0)]\n",
    "firstRotate = rotation2D(np.pi/2)\n",
    "np.dot(np.array(trianglePoints),firstRotate)\n",
    "\n",
    "\n"
   ]
  },
  {
   "cell_type": "markdown",
   "metadata": {},
   "source": [
    "### Cleaning up the Small Values\n",
    "---\n",
    "\n",
    "Sometimes Numpy returns very small numbers instead of zeros.\n",
    "\n",
    "\n",
    "One strategy is to remove small numbers less than some tolerance and set them equal to zero.  Algorithms like these where you compare your data to a tolerance and then operate on the entries that meet certain criteria are not uncommon in numerical methods.  This is the tradeoff between symbolic computation and numeric computation."
   ]
  },
  {
   "cell_type": "code",
   "execution_count": null,
   "metadata": {},
   "outputs": [],
   "source": [
    "testArray[np.abs(testArray) < 1e-5] = 0\n",
    "\n",
    "testArray"
   ]
  },
  {
   "cell_type": "markdown",
   "metadata": {},
   "source": [
    "The key is in the Boolean comparision using the `<` symbol.  The expression returns a `numpy` array of `dtype=bool`.  Let me say here that it is good to check the results of expressions if you are unsure."
   ]
  },
  {
   "cell_type": "code",
   "execution_count": null,
   "metadata": {},
   "outputs": [],
   "source": [
    "np.abs(testArray) < 1e-5"
   ]
  },
  {
   "cell_type": "markdown",
   "metadata": {},
   "source": [
    "We can write a function to do this that is a bit more robust.  Modifications are done in-place (by reference) so we just return the array passed to the function after some manipulation that we do by Boolean indexing."
   ]
  },
  {
   "cell_type": "code",
   "execution_count": null,
   "metadata": {},
   "outputs": [],
   "source": [
    "def zeroArray(testArray):\n",
    "    testArray[np.isclose(testArray, np.zeros_like(testArray))] = 0.0\n",
    "    return testArray"
   ]
  },
  {
   "cell_type": "code",
   "execution_count": null,
   "metadata": {},
   "outputs": [],
   "source": [
    "modifiedArray = rotation2D(np.pi/2)\n",
    "modifiedArray"
   ]
  },
  {
   "cell_type": "code",
   "execution_count": null,
   "metadata": {},
   "outputs": [],
   "source": [
    "modifiedArray = zeroArray(rotation2D(np.pi/2))\n",
    "modifiedArray"
   ]
  },
  {
   "cell_type": "markdown",
   "metadata": {},
   "source": [
    "### Rotations (Continued)\n",
    "----\n",
    "\n",
    "Using the new `rotation2D` function and `zeroArray` function we can now write:"
   ]
  },
  {
   "cell_type": "code",
   "execution_count": null,
   "metadata": {},
   "outputs": [],
   "source": [
    "zeroArray(np.dot(np.array([1,0]),rotation2D(np.pi/2)))"
   ]
  },
  {
   "cell_type": "markdown",
   "metadata": {},
   "source": [
    "A collection of functions for performing transformations is available at http://www.lfd.uci.edu/~gohlke/.  This can be imported and the functions used in your code.  The fastest way to explore what is available is to import the file and then use autocomplete and docstring viewing functions from the Jupyter notebook."
   ]
  },
  {
   "cell_type": "code",
   "execution_count": null,
   "metadata": {},
   "outputs": [],
   "source": [
    "import transformations as tfm"
   ]
  },
  {
   "cell_type": "code",
   "execution_count": null,
   "metadata": {},
   "outputs": [],
   "source": [
    "tfm.rotation_matrix(np.pi/2, [0,1,0])"
   ]
  },
  {
   "cell_type": "code",
   "execution_count": null,
   "metadata": {
    "scrolled": true
   },
   "outputs": [],
   "source": [
    "zeroArray(tfm.rotation_matrix(np.pi/2, [0,1,0]))"
   ]
  },
  {
   "cell_type": "markdown",
   "metadata": {},
   "source": [
    "### Symmetry Operations and Translations in Crystals\n",
    "---\n",
    "\n",
    "A generalized affine transformation in two dimensions can be thought of as an augmented matrix as:\n",
    "\n",
    "$$\\begin{bmatrix}\n",
    "r_1 & r_2 & t_x\\\\\n",
    "r_3 & r_4 & t_y\\\\\n",
    "0 & 0 & 1\\\\\n",
    "\\end{bmatrix}$$\n",
    "\n",
    "so you could imagine the following:\n",
    "\n",
    "$$\\begin{bmatrix} x'\\\\ y'\\\\ 1\\\\ \\end{bmatrix} =\n",
    "\\begin{bmatrix} 1 & 0 & t_x\\\\ 0 & 1 & t_y\\\\ 0 & 0 & 1\\\\ \\end{bmatrix} \n",
    "\\begin{bmatrix}x\\\\ y\\\\ 1\\\\ \\end{bmatrix} $$\n",
    "\n",
    "expanding to:\n",
    "\n",
    "$$x' = x + t_x $$\n",
    "\n",
    "and\n",
    "\n",
    "$$y' = y + t_y $$\n",
    "\n",
    "We can explicitly write the rotation components as listed earlier:\n",
    "\n",
    "$$\\begin{bmatrix} x'\\\\ y'\\\\ 1\\\\ \\end{bmatrix} =\n",
    "\\begin{bmatrix} \\cos{\\theta} & \\sin{\\theta} & t_x\\\\ -\\sin{\\theta} & \\cos{\\theta} & t_y\\\\ 0 & 0 & 1\\\\ \\end{bmatrix} \n",
    "\\begin{bmatrix}x\\\\ y\\\\ 1\\\\ \\end{bmatrix} $$\n",
    "\n",
    "where the $r_i$ represent the rotation matrix components and the $t_i$ represent the translations components.  This can be thought of as a shearing operation in 3D.  The Wikipedia article on this [topic](https://en.wikipedia.org/wiki/Affine_transformation) expands this idea a bit more.\n",
    "\n",
    "\n",
    "\n",
    "In this format we can use a point description that looks like $(x, y, t)$ and matrix algebra to generate our transformed points.  Using SymPy:"
   ]
  },
  {
   "cell_type": "code",
   "execution_count": 1,
   "metadata": {},
   "outputs": [
    {
     "ename": "NameError",
     "evalue": "name 'sp' is not defined",
     "output_type": "error",
     "traceback": [
      "\u001b[1;31m---------------------------------------------------------------------------\u001b[0m",
      "\u001b[1;31mNameError\u001b[0m                                 Traceback (most recent call last)",
      "\u001b[1;32m<ipython-input-1-e45494af7507>\u001b[0m in \u001b[0;36m<module>\u001b[1;34m\u001b[0m\n\u001b[1;32m----> 1\u001b[1;33m \u001b[0malpha\u001b[0m\u001b[1;33m,\u001b[0m \u001b[0mt_x\u001b[0m\u001b[1;33m,\u001b[0m \u001b[0mt_y\u001b[0m\u001b[1;33m,\u001b[0m \u001b[0mx\u001b[0m\u001b[1;33m,\u001b[0m \u001b[0my\u001b[0m \u001b[1;33m=\u001b[0m \u001b[0msp\u001b[0m\u001b[1;33m.\u001b[0m\u001b[0msymbols\u001b[0m\u001b[1;33m(\u001b[0m\u001b[1;34m'alpha t_x t_y x y'\u001b[0m\u001b[1;33m)\u001b[0m\u001b[1;33m\u001b[0m\u001b[1;33m\u001b[0m\u001b[0m\n\u001b[0m",
      "\u001b[1;31mNameError\u001b[0m: name 'sp' is not defined"
     ]
    }
   ],
   "source": [
    "alpha, t_x, t_y, x, y = sp.symbols('alpha t_x t_y x y')"
   ]
  },
  {
   "cell_type": "code",
   "execution_count": null,
   "metadata": {},
   "outputs": [],
   "source": [
    "sa = sp.sin(alpha)\n",
    "ca = sp.cos(alpha)\n",
    "M = sp.Matrix([[ca, sa, t_x], [-sa, ca, t_y], [0, 0, 1]])\n",
    "V = sp.Matrix([x, y, 1])\n",
    "\n",
    "M*V"
   ]
  },
  {
   "cell_type": "markdown",
   "metadata": {},
   "source": [
    "### Helper Classes, Drawing and Plane Groups\n",
    "----\n",
    "\n",
    "Let us explore a bit of how we can draw an image - and then we have everything we need to start building the plane group representations.  To build pictoral representations of plane groups, two classes have been created to simplify the organization of the motif.  \n",
    "\n",
    "Below are the `Point` and `Triangle` classes for your use.  A `Point` has storage for an $(x,y)$ position.  Rather than building arrays and referencing specific positions within the array a more natural referencing of points is possible.  If we define a point `p1 = Point(10,20)` we can access the points by `p1.x` and `p1.y`.  The code is more easily read and debugged with this syntax.\n",
    "\n",
    "Building on the `Point` class we define a `Triangle` class.  The `Triangle` permits access of each point and defines an `affine()` method that will take a `Numpy` array that represents a transformation matrix.  This method returns a new instance of a `Triangle` and preserves the original points.  Writing the code this way avoids explicit handling of the transformation matrices.\n",
    "\n",
    "These two classes and methods are demonstrated in the second and third code blocks.  Building on this demonstration you will be able to complete the homework."
   ]
  },
  {
   "cell_type": "code",
   "execution_count": null,
   "metadata": {},
   "outputs": [],
   "source": [
    "# Class definitions\n",
    "\n",
    "from math import sqrt\n",
    "import numpy as np\n",
    "\n",
    "class Point:\n",
    "    \"\"\"\n",
    "    A Point object to simplify storage of (x,y) positions.\n",
    "    p1.x, p1.y, etc...\n",
    "    \"\"\"\n",
    "    def __init__(self,x_init,y_init):\n",
    "        self.x = x_init\n",
    "        self.y = y_init\n",
    "\n",
    "    def shift(self, x, y):\n",
    "        self.x += x\n",
    "        self.y += y\n",
    "\n",
    "    def __repr__(self):\n",
    "        return \"\".join([\"Point(\", str(self.x), \",\", str(self.y), \")\"])\n",
    "    \n",
    "class Triangle:\n",
    "    \"\"\"\n",
    "    A Triangle class constructed from points.  Helps organize information on\n",
    "    triangles.  Has a points() method for returning points in a form that \n",
    "    can be used with polygon drawing from Python Image Library (PIL) and a \n",
    "    method, affine(), that applies a matrix transformation to the points.\n",
    "    \"\"\"\n",
    "    def __init__(self, p1_init, p2_init, p3_init):\n",
    "        self.p1 = p1_init\n",
    "        self.p2 = p2_init\n",
    "        self.p3 = p3_init\n",
    "        \n",
    "    def points(self):\n",
    "        x1, y1 = self.p1.x, self.p1.y\n",
    "        x2, y2 = self.p2.x, self.p2.y\n",
    "        x3, y3 = self.p3.x, self.p3.y\n",
    "        \n",
    "        return [(x1,y1),(x2,y2),(x3,y3)]\n",
    "        \n",
    "    def affine(self, affineMatrix):\n",
    "        \"\"\"\n",
    "        Applies an affine transformation to a triangle and changes the \n",
    "        points of the triangle.  This code returns a new triangle.  Uses\n",
    "        Points to simplify augmenting the matrix and dot products.\n",
    "        \"\"\"\n",
    "        x1, y1 = self.p1.x, self.p1.y\n",
    "        x2, y2 = self.p2.x, self.p2.y\n",
    "        x3, y3 = self.p3.x, self.p3.y\n",
    "        \n",
    "        p1Vector = np.array([[x1, y1, 1]])\n",
    "        p2Vector = np.array([[x2, y2 , 1]])\n",
    "        p3Vector = np.array([[x3, y3, 1]])\n",
    "        \n",
    "        p1New = np.dot(affineMatrix, p1Vector.T)\n",
    "        p2New = np.dot(affineMatrix, p2Vector.T)\n",
    "        p3New = np.dot(affineMatrix, p3Vector.T)\n",
    "        \n",
    "        # This line needs to be cleaned up.\n",
    "        newTriangle = Triangle(Point(p1New[0,0],p1New[1,0]),Point(p2New[0,0],p2New[1,0]),Point(p3New[0,0],p3New[1,0]))\n",
    "        \n",
    "        return newTriangle"
   ]
  },
  {
   "cell_type": "markdown",
   "metadata": {},
   "source": [
    "### Using the Python Imaging Library\n",
    "----\n",
    "\n",
    "In order that our transformations can be visualized, we will use the Python Imaging Library and the `polygon()` method.  The `polygon()` method takes a list of points in the format returned by our `Triangle` class method `points()`.  The code below is a very simple starting point for the student to begin building a representation of the plane groups."
   ]
  },
  {
   "cell_type": "code",
   "execution_count": null,
   "metadata": {},
   "outputs": [],
   "source": [
    "# Class demonstrations\n",
    "\n",
    "%matplotlib inline\n",
    "\n",
    "import numpy as np\n",
    "import math\n",
    "from PIL import Image, ImageDraw\n",
    "\n",
    "image = Image.new('RGB', (500, 500), 'white')\n",
    "draw = ImageDraw.Draw(image)\n",
    "\n",
    "t1 = Triangle(Point(10,10),Point(40,10),Point(10,50))\n",
    "t2 = Triangle(Point(10,10),Point(40,10),Point(10,50))\n",
    "translationMatrix = np.array([[1,0,50],[0,1,0],[0,0,1]])\n",
    "reflectionMatrix = np.array([[-1,0,0],[0,1,0],[0,0,1]])\n",
    "\n",
    "t2 = t1.affine(reflectionMatrix*translationMatrix)\n",
    "\n",
    "print(t1.points(), t2.points())\n",
    "\n",
    "draw.polygon(t1.points(), outline='black', fill='red')\n",
    "draw.polygon(t2.points(), outline='black', fill='green')\n",
    "\n",
    "image"
   ]
  },
  {
   "cell_type": "code",
   "execution_count": null,
   "metadata": {},
   "outputs": [],
   "source": [
    "# A slightly more advanced demonstration\n",
    "\n",
    "%matplotlib inline\n",
    "\n",
    "import numpy as np\n",
    "import math\n",
    "from PIL import Image, ImageDraw\n",
    "\n",
    "image = Image.new('RGB', (500, 500), 'white')\n",
    "draw = ImageDraw.Draw(image)\n",
    "\n",
    "t1 = Triangle(Point(70,10),Point(100,10),Point(70,50))\n",
    "\n",
    "triangleList = [t1]\n",
    "\n",
    "translationMatrix = np.array([[1,0,10],[0,1,0],[0,0,1]])\n",
    "reflectionMatrixY = np.array([[-1,0,0],[0,1,0],[0,0,1]])\n",
    "reflectionMatrixX = np.array([[1,0,0],[0,-1,0],[0,0,1]])\n",
    "\n",
    "r90 = np.array([[0,-1,0],[1,0,0],[0,0,1]])\n",
    "\n",
    "triangleList.append(t1.affine(r90))\n",
    "triangleList.append((t1.affine(r90)).affine(r90))\n",
    "triangleList.append((t1.affine(r90)).affine(r90).affine(r90))\n",
    "\n",
    "tempList = [triangle.affine(reflectionMatrixX) for triangle in triangleList]\n",
    "triangleList.extend(tempList)\n",
    "\n",
    "# Using an affine transformation to center the triangles in the drawing\n",
    "# as canvas coordinates are (0,0) at the top left.\n",
    "centerMatrix = np.array([[1,0,250],[0,1,250],[0,0,1]])\n",
    "drawList = [triangle.affine(centerMatrix) for triangle in triangleList]\n",
    "for triangle in drawList:\n",
    "    draw.polygon(triangle.points(), outline='black', fill='red')\n",
    "\n",
    "image"
   ]
  },
  {
   "cell_type": "markdown",
   "metadata": {},
   "source": [
    "# Advanced Topics:  The Metric Tensor"
   ]
  },
  {
   "cell_type": "markdown",
   "metadata": {},
   "source": [
    "Students who learn crystallography for the first time are introduced to the topic through study of cubic crystal structures.  This permits an appeal to our intuition about orthonormal (Euclidian) coordinate systems.  This approach misses out on a more general method for teaching the topic where the d-spacing and the angle between directions can be worked out for any general crystal system.  The method for describing distances in a general reference frame involves the **metric tensor**.  The metric tensor defines how distances are measured in every direction and its components are the dot product of every combination of basis vector in the system of interest.  We use the standard lattice parameter designations:\n",
    "\n",
    "$$\n",
    "[a, b, c, \\alpha, \\beta, \\gamma]\n",
    "$$\n",
    "\n",
    "where $\\gamma$ is the angle between $\\mathbf{a}$ and $\\mathbf{b}$, etc.  This general system has basis vectors:\n",
    "\n",
    "$$\n",
    "\\mathbf{a},\\mathbf{b}, \\mathbf{c}\n",
    "$$\n",
    "\n",
    "The standard geometric interpretation of an inner product of vectors is:\n",
    "\n",
    "$$\n",
    "\\mathbf{a} \\cdot \\mathbf{b} = |a| \\; |b| \\; \\cos{\\gamma}\n",
    "$$\n",
    "\n",
    "so that the metric tensor is:\n",
    "\n",
    "$$\n",
    "g_{ij} = \n",
    "\\begin{bmatrix} \n",
    "\\mathbf{a} \\cdot \\mathbf{a} & \n",
    "\\mathbf{a} \\cdot \\mathbf{b} & \n",
    "\\mathbf{a} \\cdot \\mathbf{c} \\\\ \n",
    "\\mathbf{b} \\cdot \\mathbf{a} & \n",
    "\\mathbf{b} \\cdot \\mathbf{b} & \n",
    "\\mathbf{b} \\cdot \\mathbf{c} \\\\ \n",
    "\\mathbf{c} \\cdot \\mathbf{a} & \n",
    "\\mathbf{c} \\cdot \\mathbf{b} & \n",
    "\\mathbf{c} \\cdot \\mathbf{c}\n",
    "\\end{bmatrix}\n",
    "$$\n",
    "\n",
    "Committing this to memory is simple and it has an intuitive meaning in that each entry measures a different projection of a vector component onto an axis in a general crystal system within lattice coordinates.  It is possible to write a small function in SymPy to illustrate this."
   ]
  },
  {
   "cell_type": "code",
   "execution_count": null,
   "metadata": {},
   "outputs": [],
   "source": [
    "def metricTensor(a=1, b=1, c=1, alpha=sp.pi/2, beta=sp.pi/2, gamma=sp.pi/2):\n",
    "    return sp.Matrix([[a*a, a*b*sp.cos(gamma), a*c*sp.cos(beta)], \\\n",
    "                     [a*b*sp.cos(gamma), b*b, b*c*sp.cos(alpha)], \\\n",
    "                     [a*c*sp.cos(beta), b*c*sp.cos(alpha), c*c]])"
   ]
  },
  {
   "cell_type": "code",
   "execution_count": null,
   "metadata": {},
   "outputs": [],
   "source": [
    "sp.var('a b c alpha beta gamma u v w h k l')"
   ]
  },
  {
   "cell_type": "code",
   "execution_count": null,
   "metadata": {},
   "outputs": [],
   "source": [
    "M = metricTensor(a=a,\n",
    "                 b=b,\n",
    "                 c=c,\n",
    "                 alpha=alpha,\n",
    "                 beta=beta,\n",
    "                 gamma=gamma\n",
    "                )\n",
    "M"
   ]
  },
  {
   "cell_type": "markdown",
   "metadata": {},
   "source": [
    "### Two Common Computations\n",
    "----\n",
    "\n",
    "Using the Einstein summation convention, the square of the distance between two points located at the end of vectors $\\mathbf{p}$ and $\\mathbf{q}$ is given by:\n",
    "\n",
    "$$\n",
    "D^2 = (\\mathbf{q} - \\mathbf{p})_i \\; g_{ij} \\; (\\mathbf{q} - \\mathbf{p})_j\n",
    "$$\n",
    "\n",
    "The dot product between two vectors is given by:\n",
    "\n",
    "$$\n",
    "\\mathbf{p} \\cdot \\mathbf{q} = p_i \\; g_{ij} \\; q_j\n",
    "$$\n",
    "\n",
    "Note that the vectors $\\mathbf{p}$ and $\\mathbf{q}$ are in lattice coordinates."
   ]
  },
  {
   "cell_type": "markdown",
   "metadata": {},
   "source": [
    "### DIY:  Angle Between Two Vectors\n",
    "---\n",
    "\n",
    "Find the expression for and compute the angle between two vectors in a general coordinate system.  Use the function defined above or write a new one.  You are encouraged to use SymPy or Numpy in your calculations.  Refer to the earlier lectures that cover these topics for the implementation and technical details."
   ]
  },
  {
   "cell_type": "code",
   "execution_count": null,
   "metadata": {},
   "outputs": [],
   "source": [
    "# Put your code or markdown here."
   ]
  },
  {
   "cell_type": "markdown",
   "metadata": {
    "collapsed": true
   },
   "source": [
    "### DIY:  Compute the angle between the $(123)$ plane and the $(112)$ plane in a trigonal crystal system\n",
    "---\n",
    "\n",
    "The trigonal crystal system has the least symmetry.  Refer to standard texts for the pattern of lattice parameters."
   ]
  },
  {
   "cell_type": "code",
   "execution_count": null,
   "metadata": {},
   "outputs": [],
   "source": [
    "vectorOne = np.array([1,2,3])\n",
    "vectorTwo = np.array([1,1,2])\n",
    "\n",
    "# Put your code here."
   ]
  },
  {
   "cell_type": "markdown",
   "metadata": {},
   "source": [
    "# Advanced Topics: Euler Angles\n",
    "\n",
    "This discussion is derived primarily from Arfken, Chapter 3.3.  The figure below is from Arfken:"
   ]
  },
  {
   "cell_type": "markdown",
   "metadata": {},
   "source": [
    "![](images/Arfken_Figure_3.7.png)"
   ]
  },
  {
   "cell_type": "markdown",
   "metadata": {
    "collapsed": true
   },
   "source": [
    "There are three successive rotations used in the Euler angle formalism - the product of these three rotations is the single operation that transforms one set of coordinates $(x,y,z)$ into another, $(x',y',z')$.  The order is important and is the difference between active and passive rotations.\n",
    "\n",
    "In steps as shown in Figure 3.7 from Arfken:\n",
    "\n",
    "1. The first rotation is about $x_3$.  In this case the $x'_3$ and $x_3$ axes coincide.  The angle $\\alpha$ is taken to be positive (counterclockwise).  Our new coordinate system is $(x'_1,x'_2,x'_3)$.\n",
    "1. The coordinates are now rotated through an angle $\\beta$ around the $x'_2$ axis.  Our new coordinate system is now $(x''_1,x''_2,x''_3)$.\n",
    "1. The final rotation is through the angle $\\gamma$ about the $x'''_3$ axis.  Our coordinate system is now the $(x'''_1,x'''_2,x'''_3)$.  In the case pictured above the $x''_3$ and $x'''_3$ axes coincide."
   ]
  },
  {
   "cell_type": "markdown",
   "metadata": {},
   "source": [
    "For example:"
   ]
  },
  {
   "cell_type": "code",
   "execution_count": null,
   "metadata": {},
   "outputs": [],
   "source": [
    "alpha, beta, gamma = sp.symbols('alpha beta gamma')\n",
    "\n",
    "def rZ(angle):\n",
    "    sa = sp.sin(angle)\n",
    "    ca = sp.cos(angle)\n",
    "    M = sp.Matrix([[ca, sa, 0],\n",
    "                  [-sa, ca, 0],\n",
    "                  [0, 0, 1]])\n",
    "    return M\n",
    "\n",
    "def rY(angle):\n",
    "    sb = sp.sin(angle)\n",
    "    cb = sp.cos(angle)\n",
    "    M = sp.Matrix([[cb, 0, -sb],\n",
    "                  [0, 1, 0],\n",
    "                  [sb, 0, cb]])\n",
    "    return M\n"
   ]
  },
  {
   "cell_type": "code",
   "execution_count": null,
   "metadata": {},
   "outputs": [],
   "source": [
    "(rZ(alpha), rY(beta), rZ(gamma))"
   ]
  },
  {
   "cell_type": "markdown",
   "metadata": {},
   "source": [
    "You'll find that the symbolic triple matrix product matches up with the results in Arfken for the definition of Euler angles $\\alpha$, $\\beta$, $\\gamma$.  Note also that this is much easier to compute than by hand!  Also - less likely to result in errors.  "
   ]
  },
  {
   "cell_type": "code",
   "execution_count": null,
   "metadata": {},
   "outputs": [],
   "source": [
    "rZ(gamma)*rY(beta)*rZ(alpha)"
   ]
  },
  {
   "cell_type": "markdown",
   "metadata": {},
   "source": [
    "To convert this symbolic expression to a numerical expression, one option is to use `lambdafy` from SymPy:"
   ]
  },
  {
   "cell_type": "code",
   "execution_count": null,
   "metadata": {},
   "outputs": [],
   "source": [
    "eulerAngles = sp.lambdify((alpha,beta,gamma), rZ(gamma)*rY(beta)*rZ(alpha), \"numpy\")"
   ]
  },
  {
   "cell_type": "code",
   "execution_count": null,
   "metadata": {},
   "outputs": [],
   "source": [
    "np.array([1,0,0]).dot(eulerAngles(np.pi/2.0,0,0))"
   ]
  }
 ],
 "metadata": {
  "kernelspec": {
   "display_name": "Python 3",
   "language": "python",
   "name": "python3"
  },
  "language_info": {
   "codemirror_mode": {
    "name": "ipython",
    "version": 3
   },
   "file_extension": ".py",
   "mimetype": "text/x-python",
   "name": "python",
   "nbconvert_exporter": "python",
   "pygments_lexer": "ipython3",
   "version": "3.7.6"
  }
 },
 "nbformat": 4,
 "nbformat_minor": 1
}
