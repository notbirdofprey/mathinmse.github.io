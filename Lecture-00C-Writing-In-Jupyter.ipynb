{
 "cells": [
  {
   "cell_type": "markdown",
   "metadata": {
    "collapsed": true
   },
   "source": [
    "# Lecture C:  Getting Started with Writing in Jupyter"
   ]
  },
  {
   "cell_type": "markdown",
   "metadata": {},
   "source": [
    "## Introduction\n",
    "----\n",
    "\n",
    "The humane markup language called Markdown is the primary way of writing text in Jupyter notebooks.  The purpose of this section is to get the user familiar with the basics of markdown.  There are numerous tutorials on the web.  What is presented below is the bare minimum needed to develop a notebook that can communicate the users' methodology to an unfamiliar reader.  Additional sources of information:\n",
    "\n",
    "* [The Jupyter Beginner Guide](https://jupyter-notebook-beginner-guide.readthedocs.io/en/latest/)\n",
    "* The Markdown guide in the help menu\n",
    "* The User Interface Tour in the help menu"
   ]
  },
  {
   "cell_type": "markdown",
   "metadata": {},
   "source": [
    "## What is Markdown?\n",
    "----\n",
    "\n",
    "A markup language uses a command syntax inline with the content of a document. You are probably most familiar with HTML, but there are others.\n",
    "\n",
    "These languages can be challenging to use if you are starting out or if you are not used to programming. HTML, in partcular, looks more like computer code then what you (ultimately) want to see on a webpage. This is off-putting for content developers.\n",
    "\n",
    "Attitudes now favor writing the content of documents so that they are human readable, and then permitting software (that other people write) to transform your document into something that looks different (usually nicer or more professional) or displays the content in a different type of software where the software controls the formatting. LaTeX is a very mature example of a markup language that scientists and engineers use to prepare formal reports and journal articles.\n",
    "For the most part, a LaTeX document can easily be read by a non-LaTeX programmer.\n",
    "\n",
    "Recently the idea of more humane markup languages has emerged. These languages can easily be read in raw form but they can also be translated by other computer programs into other types of documents.\n",
    "\n",
    "If you've ever sent a text message and used quotes: \" \", asterisks: * *, or underlines: _ _ around a word, then you've already written in a type of \"markdown\". Software intended for the web generally will have some form of markdown available.\n",
    "\n",
    "We feel that focusing on human readable content is an appropriate activity for faculty. Sticking to markdown syntax makes it possible for other software packages to interpret your content and create interactive notebooks, slides, homework assignments, course notes, etc."
   ]
  },
  {
   "cell_type": "markdown",
   "metadata": {},
   "source": [
    "### Paragraphs \n",
    "----\n",
    "\n",
    "Type text to make a paragraph.  For example:\n",
    "\n",
    "`Lorem ipsum dolor sit amet, consectetur adipiscing elit. Vestibulum interdum eu arcu a porttitor. Aliquam a mauris urna. Nulla id dignissim arcu. Nunc at venenatis ligula. Etiam massa dui, pellentesque ornare sollicitudin et, pulvinar eget massa. Vestibulum at commodo nulla. Vivamus suscipit eget magna ut luctus. Nunc ut iaculis dui. Pellentesque molestie pharetra metus, in ullamcorper urna dignissim quis. Phasellus ac tempus sem.`\n",
    "\n",
    "renders as:\n",
    "\n",
    "Lorem ipsum dolor sit amet, consectetur adipiscing elit. Vestibulum interdum eu arcu a porttitor. Aliquam a mauris urna. Nulla id dignissim arcu. Nunc at venenatis ligula. Etiam massa dui, pellentesque ornare sollicitudin et, pulvinar eget massa. Vestibulum at commodo nulla. Vivamus suscipit eget magna ut luctus. Nunc ut iaculis dui. Pellentesque molestie pharetra metus, in ullamcorper urna dignissim quis. Phasellus ac tempus sem.\n",
    "\n",
    "A blank line between will start a new paragraph."
   ]
  },
  {
   "cell_type": "markdown",
   "metadata": {},
   "source": [
    "### Headings\n",
    "----\n",
    "\n",
    "Hash symbols and the number of them decide the heading level.  See other cells in this notebook for additional examples.\n",
    "\n",
    "`### Headings`"
   ]
  },
  {
   "cell_type": "markdown",
   "metadata": {},
   "source": [
    "### Line Breaks\n",
    "----\n",
    "\n",
    "Sometimes you will want to break the line manually.  Type two spaces at the end of a line to break the line:\n",
    "\n",
    "(With two spaces at the end of every line)  \n",
    "The quick brown fox  \n",
    "jumps over the lazy dog  \n",
    "\n",
    "(Without two spaces at the end of every line)\n",
    "The quick brown fox\n",
    "jumps over the lazy dog"
   ]
  },
  {
   "cell_type": "markdown",
   "metadata": {},
   "source": [
    "### Emphasis\n",
    "----\n",
    "\n",
    "For example:\n",
    "\n",
    "`**Hello World!**`\n",
    "\n",
    "`_Hello World!_`\n",
    "\n",
    "produces:\n",
    "\n",
    "**Hello World!**  \n",
    "\n",
    "_Hello World!_"
   ]
  },
  {
   "cell_type": "markdown",
   "metadata": {},
   "source": [
    "### Lists\n",
    "----\n",
    "\n",
    "`* Item 1`  \n",
    "`* Item 2`  \n",
    "`* Item 3`  \n",
    "\n",
    "* Item 1\n",
    "* Item 2\n",
    "* Item 3"
   ]
  },
  {
   "cell_type": "markdown",
   "metadata": {},
   "source": [
    "### Equations\n",
    "----\n",
    "\n",
    "LaTeX is used to typeset equations.  For example:\n",
    "\n",
    "``\n",
    "$$\n",
    "\\frac{\\partial c}{\\partial t} = D \\frac{\\partial^2 c}{\\partial x^2}\n",
    "$$\n",
    "``\n",
    "\n",
    "renders as:\n",
    "\n",
    "$$\n",
    "\\frac{\\partial c}{\\partial t} = D \\frac{\\partial^2 c}{\\partial x^2}\n",
    "$$\n",
    "\n",
    "Single `$` puts equations inline.  Double `$$` centers the equations in the cell.  Some other helpful examples:\n",
    "\n",
    "* Superscript, `x^2` = $x^2$\n",
    "* Subscript, `x_0` = $x_0$\n",
    "* Grouping, `x^{-2}` = $x^{-2}$ (use curly braces)\n",
    "* Fractions, `\\frac{3}{4}` = $\\frac{3}{4}$ (also good for derivative symbols)\n",
    "* Partial derivatives, `\\frac{\\partial c}{\\partial t}` = $\\frac{\\partial c}{\\partial t}$\n",
    "* Scientific notation, `1 \\times 10^{-5}` = $1 \\times 10^{-5}$\n",
    "* Functions, `\\sin{3x}` = $\\sin{3x}$, also $\\cos{5x}$, $\\tan{7x}$, $\\sqrt{56}$\n",
    "\n",
    "The [cheat sheet](https://wch.github.io/latexsheet/) has a lot more options, but not all symbols are implemented."
   ]
  },
  {
   "cell_type": "markdown",
   "metadata": {},
   "source": [
    "### Images\n",
    "----\n",
    "\n",
    "Markdown syntax provides for including images.\n",
    "\n",
    "`![Alt Text](./images/3dglasses.gif \"Pointer Hover Title\")`\n",
    "\n",
    "![Alt Text](./images/3dglasses.gif \"Pointer Hover Title\")"
   ]
  },
  {
   "cell_type": "markdown",
   "metadata": {},
   "source": [
    "### Tables\n",
    "----\n",
    "\n",
    "\n",
    "`|Header|Header|Header|Header|\n",
    "|------|------|------|------|\n",
    "|Cell  |Cell  |Cell  | Cell |\n",
    "|Cell  |Cell  |Cell  | Cell |\n",
    "|Cell  |Cell  |Cell  | Cell |\n",
    "|Cell  |Cell  |Cell  | Cell |`\n",
    "\n",
    "|Header|Header|Header|Header|\n",
    "|------|------|------|------|\n",
    "|Cell  |Cell  |Cell  | Cell |\n",
    "|Cell  |Cell  |Cell  | Cell |\n",
    "|Cell  |Cell  |Cell  | Cell |\n",
    "|Cell  |Cell  |Cell  | Cell |"
   ]
  },
  {
   "cell_type": "markdown",
   "metadata": {},
   "source": [
    "### Python Code\n",
    "----\n",
    "\n",
    "Enter your code, then type `<SHIFT>+<ENTER>` to execute."
   ]
  },
  {
   "cell_type": "code",
   "execution_count": 1,
   "metadata": {},
   "outputs": [
    {
     "data": {
      "text/plain": [
       "4"
      ]
     },
     "execution_count": 1,
     "metadata": {},
     "output_type": "execute_result"
    }
   ],
   "source": [
    "2+2"
   ]
  },
  {
   "cell_type": "markdown",
   "metadata": {
    "collapsed": true
   },
   "source": [
    "### Homework\n",
    "----\n",
    "\n",
    "Write a 250-500 word essay on representation of numbers by computers.  Include topics such as machine accuracy, bit length, types (e.g. int, float, long) and exact representations.  Use diagrams and figures where appropriate."
   ]
  },
  {
   "cell_type": "code",
   "execution_count": null,
   "metadata": {},
   "outputs": [],
   "source": []
  }
 ],
 "metadata": {
  "kernelspec": {
   "display_name": "Python 3",
   "language": "python",
   "name": "python3"
  },
  "language_info": {
   "codemirror_mode": {
    "name": "ipython",
    "version": 3
   },
   "file_extension": ".py",
   "mimetype": "text/x-python",
   "name": "python",
   "nbconvert_exporter": "python",
   "pygments_lexer": "ipython3",
   "version": "3.7.6"
  },
  "widgets": {
   "state": {},
   "version": "1.1.2"
  }
 },
 "nbformat": 4,
 "nbformat_minor": 1
}
