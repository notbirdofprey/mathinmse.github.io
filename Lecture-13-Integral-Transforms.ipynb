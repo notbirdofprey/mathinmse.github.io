{
 "cells": [
  {
   "cell_type": "markdown",
   "metadata": {},
   "source": [
    "# Lecture 13:  Integral Transforms, D/FFT and Electron Microscopy\n",
    "----"
   ]
  },
  {
   "cell_type": "markdown",
   "metadata": {},
   "source": [
    "## Reading and Reference\n",
    "\n",
    "* Advanced engineering Mathematics, E. Kreyszig, John wiley and Sons, 2010\n",
    "* Numerical Recipes, W. Press, Cambridge University Press, 1986\n",
    "* M. De Graef and M. McHenry, Structure of Materials, Cambridge University Press, 2nd ed.\n",
    "* C. Hammond, The Basics of Crystallography and Diffraction, Oxford Science Publications, 4th ed.\n",
    "\n",
    "## What to Learn?\n",
    "\n",
    "* The definition of an integral transform.\n",
    "* The algorithm for computing the discrete Fourier transform\n",
    "* How diffraction patterns can be used to create phase contrast images in electron microscopy\n",
    "\n",
    "## What to Do?\n",
    "\n",
    "* Compute the Fourier transform of different aperture functions.\n",
    "* Select different regions of a Fourier transform to reconstruct a simulated TEM image and an image of your choosing."
   ]
  },
  {
   "cell_type": "markdown",
   "metadata": {},
   "source": [
    "### Introduction to Integral Transforms\n",
    "----\n",
    "\n",
    "An integral transform maps a function of one independent variable into a function of another independant variable using a _kernel_."
   ]
  },
  {
   "cell_type": "markdown",
   "metadata": {},
   "source": [
    "$$g(\\alpha) = \\int_{a}^{b} f(t) K(\\alpha,t) dt $$"
   ]
  },
  {
   "cell_type": "markdown",
   "metadata": {},
   "source": [
    "The function $f(t)$ is transformed to a new function $g(\\alpha)$ through the definate integral.  A similarity to the dot product of functions is evident in this form and this operation can be thought of as a mapping or projection of $f(t)$ into a different independent variable $\\alpha$.  Existence, integrability and inversion of integral transform operations are important in the study of this topic, although not covered in these notes.\n",
    "\n",
    "Two examples of integral transforms, the Laplace and Fourier, are discussed in this lecture.  It is typical to use the Laplace transform to remove the time dependence from Fick's second law in diffusion problems.  The Fourier transform is used in the study of diffraction under certain conditions."
   ]
  },
  {
   "cell_type": "markdown",
   "metadata": {},
   "source": [
    "To assist in this lecture some special symbols in `Python` and `sympy` are reviewed:"
   ]
  },
  {
   "cell_type": "code",
   "execution_count": null,
   "metadata": {},
   "outputs": [],
   "source": [
    "import sympy as sp\n",
    "sp.init_printing(use_latex=True)"
   ]
  },
  {
   "cell_type": "code",
   "execution_count": null,
   "metadata": {},
   "outputs": [],
   "source": [
    "# symbols we will need below\n",
    "x,y,z,t,c = sp.symbols('x y z t c')\n",
    "# note the special declaration that omega is a positive number\n",
    "omega = sp.symbols('omega', positive=True)"
   ]
  },
  {
   "cell_type": "markdown",
   "metadata": {},
   "source": [
    "###  Complex Number Review\n",
    "----\n",
    "\n",
    "A reminder that $i$ is the square root of negative one and this is how you specify $i$ in `Sympy` and that is different than the complex data type in `Python`."
   ]
  },
  {
   "cell_type": "code",
   "execution_count": null,
   "metadata": {},
   "outputs": [],
   "source": [
    "sp.I**2"
   ]
  },
  {
   "cell_type": "markdown",
   "metadata": {},
   "source": [
    "The natural logarithm of $e$ is $1$:"
   ]
  },
  {
   "cell_type": "code",
   "execution_count": null,
   "metadata": {},
   "outputs": [],
   "source": [
    "sp.log(sp.E)"
   ]
  },
  {
   "cell_type": "markdown",
   "metadata": {},
   "source": [
    "In SymPy there are two ways to deal with integration.  If you would like to represent an unevaluated integral, you can use the `Integral` function.  If you want to compute the integration of an expression you can use the `integrate` function."
   ]
  },
  {
   "cell_type": "code",
   "execution_count": null,
   "metadata": {},
   "outputs": [],
   "source": [
    "sp.Integral(sp.E**(sp.I*omega*t),t)"
   ]
  },
  {
   "cell_type": "code",
   "execution_count": null,
   "metadata": {
    "scrolled": true
   },
   "outputs": [],
   "source": [
    "# 'omega', positive=True\n",
    "sp.integrate(sp.E**(sp.I*omega*t),t)"
   ]
  },
  {
   "cell_type": "markdown",
   "metadata": {},
   "source": [
    "Where we assume there is no zero frequency (as we are dividing by $\\omega$) - hence the assumption `positive=True` in the symbol definition above.  (Try replacing $\\omega$ with $y$ and inspect the expression returned by `integrate`.)"
   ]
  },
  {
   "cell_type": "markdown",
   "metadata": {},
   "source": [
    "### The Fourier Transform\n",
    "----"
   ]
  },
  {
   "cell_type": "markdown",
   "metadata": {},
   "source": [
    "As the domain of the periodicity increases, the frequency spectrum required required to represent the function becomes more finely divided.  Recall the argument of the trigonometric terms in the functions of the Fourier series:\n",
    "\n",
    "$$ \\frac{n \\pi (\\omega +c)}{d} $$\n",
    "\n",
    "where n is the order of the frequency component, c the offset relative to the origin, and d the domain width.  If we let the domain width go to infinity (implying that the function is not periodic) then an integral sum is required rather than a discrete summation.  The, infinte, non-periodic function and its frequency spectrum are related by the Fourier transform defined by:\n",
    "\n",
    "$$ \\hat{f}(\\omega) = \\sqrt{\\frac{1}{2\\pi}} \\int^{+\\infty}_{-\\infty} f(t) \\exp[-i \\omega t] dt $$\n",
    "\n",
    "This results in a mapping of the function f(t) into frequency space.  \n",
    "\n",
    "The real or complex and even or odd nature of the function $f(t)$ determines if the transformed function is even, odd, real, or complex.  For the purposes of materials crystal structures in this lecture we will be using even and real functions.  "
   ]
  },
  {
   "cell_type": "markdown",
   "metadata": {},
   "source": [
    "### Diffraction from An Aperture\n",
    "----\n",
    "\n",
    "A useful physical problem requiring use of the Fourier transform is diffraction.  In this problem we will use a top-hat function to represent the location of an infinity of wave sources from an aperture.  We use the `sp.Piecewise` function to generate a \"tophat\" function for the Fourier transform."
   ]
  },
  {
   "cell_type": "code",
   "execution_count": null,
   "metadata": {
    "scrolled": false
   },
   "outputs": [],
   "source": [
    "%matplotlib inline\n",
    "import matplotlib.pyplot as plt\n",
    "plt.rcParams['figure.figsize'] = 8, 4\n",
    "\n",
    "p = sp.Piecewise((0,x<-1),(1,x<1),(0,True))\n",
    "sp.plot(p);"
   ]
  },
  {
   "cell_type": "markdown",
   "metadata": {},
   "source": [
    "At some distance from the aperture we place a detector that measures the combined intensity of all the wave sources, however due to the finite width of the slit each wave travels a different distance to the detector.  The phase difference between the waves at the detector is given by the Fourier transform of the aperture function when the [Fraunhofer](https://en.wikipedia.org/wiki/Fraunhofer_diffraction_equation) approximation is valid.\n",
    "\n",
    "This aperture function is even and real so we expect our transformed function to also be even and real.  We use the definition of the integral transform above to write an explicit integral statement of the Fourier transform of the top-hat function above.  The integral is $1$ between $c$ and $-c$ and zero elsewhere - so we can integrate **just the non-zero part**.  This is integrated as: "
   ]
  },
  {
   "cell_type": "code",
   "execution_count": null,
   "metadata": {},
   "outputs": [],
   "source": [
    "sp.Integral(1*sp.exp(-sp.I*2*omega*x),(x,-c,c))"
   ]
  },
  {
   "cell_type": "markdown",
   "metadata": {},
   "source": [
    "Calling explicitly for the integration and assigning the result to `a`:"
   ]
  },
  {
   "cell_type": "code",
   "execution_count": null,
   "metadata": {
    "scrolled": true
   },
   "outputs": [],
   "source": [
    "a = sp.sqrt(1/(2*sp.pi))*sp.integrate(1*sp.exp(-sp.I*2*omega*x),(x,-c,c))\n",
    "a"
   ]
  },
  {
   "cell_type": "markdown",
   "metadata": {},
   "source": [
    "This does not (at first glance) appear to be a real function due to the two exponential terms, but we can use some of the algebraic methods built into `SymPy` to help.  We can ask for this form using sines and cosines with the `rewrite` method.  Furthermore - we can simplify it further with the expand function.  Trial and error may be required to determine the best combination and ordering of algebraic manipulations."
   ]
  },
  {
   "cell_type": "code",
   "execution_count": null,
   "metadata": {
    "slideshow": {
     "slide_type": "slide"
    }
   },
   "outputs": [],
   "source": [
    "solution = sp.expand(a.rewrite(sp.sin))\n",
    "solution"
   ]
  },
  {
   "cell_type": "markdown",
   "metadata": {},
   "source": [
    "Here we can use the `subs` (substitution) method to set the value of `c`.  I plotted the square of the function since the intensity of a diffracted wave is related to the time averaged energy transferred by the wave.  [This is proportional to the amplitude squared.](http://hyperphysics.phy-astr.gsu.edu/hbase/Waves/powstr.html)  As our function is real valued, we can take a shortcut and just plot the square."
   ]
  },
  {
   "cell_type": "code",
   "execution_count": null,
   "metadata": {},
   "outputs": [],
   "source": [
    "sp.plot(solution.subs(c,1));"
   ]
  },
  {
   "cell_type": "code",
   "execution_count": null,
   "metadata": {},
   "outputs": [],
   "source": [
    "sp.plot(solution.subs(c,1)**2);"
   ]
  },
  {
   "cell_type": "markdown",
   "metadata": {},
   "source": [
    "### Diffraction from Two Apertures\n",
    "----\n",
    "\n",
    "We could perform the same integration over two top-hat functions and plot those results."
   ]
  },
  {
   "cell_type": "code",
   "execution_count": null,
   "metadata": {},
   "outputs": [],
   "source": [
    "compositeIntegral = sp.sqrt(1/(2*sp.pi))*sp.Integral(1*sp.exp(-sp.I*2*omega*x),(x,1,2)) + \\\n",
    "sp.sqrt(1/(2*sp.pi))*sp.Integral(1*sp.exp(-sp.I*2*omega*x),(x,-2,-1))\n",
    "compositeIntegral"
   ]
  },
  {
   "cell_type": "code",
   "execution_count": null,
   "metadata": {},
   "outputs": [],
   "source": [
    "om = compositeIntegral.doit()\n",
    "om"
   ]
  },
  {
   "cell_type": "markdown",
   "metadata": {},
   "source": [
    "The diffracted intensity from this pair of slits would appear as:"
   ]
  },
  {
   "cell_type": "code",
   "execution_count": null,
   "metadata": {
    "scrolled": true
   },
   "outputs": [],
   "source": [
    "sp.plot(om.rewrite(sp.sin).expand()**2)"
   ]
  },
  {
   "cell_type": "markdown",
   "metadata": {},
   "source": [
    "Or we could functionalize our function to explore other parameters:"
   ]
  },
  {
   "cell_type": "code",
   "execution_count": null,
   "metadata": {
    "slideshow": {
     "slide_type": "slide"
    }
   },
   "outputs": [],
   "source": [
    "def diffractionFunction(d=4.0, w=1.0):\n",
    "    result = sp.sqrt(1/(2*sp.pi))*sp.Integral(1*sp.exp(-sp.I*2*omega*x),\\\n",
    "                                     (x,-(d+w),-(d-w))) + \\\n",
    "    sp.sqrt(1/(2*sp.pi))*sp.Integral(1*sp.exp(-sp.I*2*omega*x),\\\n",
    "                                     (x,(d-w),(d+w)))\n",
    "    return result.doit()"
   ]
  },
  {
   "cell_type": "code",
   "execution_count": null,
   "metadata": {
    "scrolled": true,
    "slideshow": {
     "slide_type": "slide"
    }
   },
   "outputs": [],
   "source": [
    "sp.expand(diffractionFunction(10.,2.).rewrite(sp.sin))"
   ]
  },
  {
   "cell_type": "markdown",
   "metadata": {},
   "source": [
    "### DIY:  Complex Numbers\n",
    "----\n",
    "\n",
    "Perform the Fourier transformation on an odd or complex valued function.  Plot the real and imaginary parts of both the target function and the transformed functions.\n",
    "\n",
    "### DIY:  The Airy Disk\n",
    "----\n",
    "\n",
    "Solve for the diffracted intensity in two dimensions from a circular aperture. It may be easier to do this as a discrete problem using the DFT below. "
   ]
  },
  {
   "cell_type": "markdown",
   "metadata": {},
   "source": [
    "### The Discrete Fourier Transform\n",
    "----"
   ]
  },
  {
   "cell_type": "markdown",
   "metadata": {},
   "source": [
    "The discrete Fourier Transform is defined [here](http://en.wikipedia.org/wiki/Discrete_Fourier_transform) and is regarded as one of the most important advances in computing science in the 20th century.  Other resources such as Numerical Recipes, the Python help files and many other websites detail the calculation and implementations.\n",
    "\n",
    "It is often instructive to review other implementations of the DFT to help you gain experience.  I will be modeling this implementation after Jake Vanderplas' blog article [here](http://jakevdp.github.io/blog/2013/08/28/understanding-the-fft/).  Following the notion in the blog article:"
   ]
  },
  {
   "cell_type": "markdown",
   "metadata": {},
   "source": [
    "Forward DFT:\n",
    "\n",
    "$$X_k = \\sum_{n=0}^{N-1} x_n \\cdot e^{-i~2\\pi~k~n~/~N}$$\n",
    "\n",
    "Inverse DFT:\n",
    "\n",
    "$$x_n = \\frac{1}{N}\\sum_{k=0}^{N-1} X_k e^{i~2\\pi~k~n~/~N}$$"
   ]
  },
  {
   "cell_type": "markdown",
   "metadata": {},
   "source": [
    "In this section of the notebook, we use Vanderplas' description and implementation."
   ]
  },
  {
   "cell_type": "markdown",
   "metadata": {},
   "source": [
    "----\n",
    "For simplicity, we'll concern ourself only with the forward transform, as the inverse transform can be implemented in a very similar manner.  Taking a look at the DFT expression above, we see that it is nothing more than a straightforward linear operation: a matrix-vector multiplication of $\\vec{x}$,\n",
    "\n",
    "$$\\vec{X} = M \\cdot \\vec{x}$$\n",
    "\n",
    "with the matrix $M$ given by\n",
    "\n",
    "$$M_{kn} = e^{-i~2\\pi~k~n~/~N}$$\n",
    "\n",
    "With this in mind, we can compute the DFT using simple matrix multiplication as follows:"
   ]
  },
  {
   "cell_type": "code",
   "execution_count": null,
   "metadata": {},
   "outputs": [],
   "source": [
    "import numpy as np\n",
    "def DFT_slow(x):\n",
    "    \"\"\"Compute the discrete Fourier Transform of the 1D array x\"\"\"\n",
    "    x = np.asarray(x, dtype=float)\n",
    "    N = x.shape[0]\n",
    "    n = np.arange(N)\n",
    "    k = n.reshape((N, 1))\n",
    "    M = np.exp(-2j * np.pi * k * n / N)\n",
    "    return np.dot(M, x)"
   ]
  },
  {
   "cell_type": "markdown",
   "metadata": {},
   "source": [
    "We can use the \"all close\" function to check if the result from `DFT_slow` and `Numpy` are close:"
   ]
  },
  {
   "cell_type": "code",
   "execution_count": null,
   "metadata": {},
   "outputs": [],
   "source": [
    "x_signal = np.random.random(1024)\n",
    "np.allclose(DFT_slow(x_signal), np.fft.fft(x_signal))"
   ]
  },
  {
   "cell_type": "markdown",
   "metadata": {},
   "source": [
    "----\n",
    " "
   ]
  },
  {
   "cell_type": "markdown",
   "metadata": {},
   "source": [
    "I think it would be instructive to symbolically expand the matrix above so that it is clear how `n*k` leads to a two dimensional matrix.  Switching to `sympy` symbols to expose the details we can do the following:"
   ]
  },
  {
   "cell_type": "code",
   "execution_count": null,
   "metadata": {},
   "outputs": [],
   "source": [
    "import sympy as sp\n",
    "from sympy import Matrix\n",
    "import numpy as np\n",
    "sp.init_printing()"
   ]
  },
  {
   "cell_type": "markdown",
   "metadata": {},
   "source": [
    "* `x` is the input vector.\n",
    "* `k` is the wavenumber or frequency.\n",
    "* `n` is the component of the input vector."
   ]
  },
  {
   "cell_type": "code",
   "execution_count": null,
   "metadata": {},
   "outputs": [],
   "source": [
    "x = sp.Matrix(sp.symbols('x0:5'))\n",
    "n = sp.Matrix(sp.symbols('n0:5')).T\n",
    "k = sp.Matrix(sp.symbols('k0:5'))\n",
    "N = sp.symbols('N')\n",
    "M = (-sp.I*2*sp.pi*k*n/N).applyfunc(sp.exp)"
   ]
  },
  {
   "cell_type": "code",
   "execution_count": null,
   "metadata": {},
   "outputs": [],
   "source": [
    "M*x"
   ]
  },
  {
   "cell_type": "markdown",
   "metadata": {},
   "source": [
    "Each frequency element is projected into each point of the input vector - the matrix links `k` and `n`.  So - the contribution at each point is a sum of each frequency contribution, similar to the dot product of functions."
   ]
  },
  {
   "cell_type": "markdown",
   "metadata": {
    "collapsed": true
   },
   "source": [
    "### DFT with Numpy Functions\n",
    "----\n",
    "\n",
    "In this section we use the `FFT` submodule of `numpy` to help in the computation of the DFT."
   ]
  },
  {
   "cell_type": "code",
   "execution_count": null,
   "metadata": {},
   "outputs": [],
   "source": [
    "?np.fft # This gives us information on the conventions used in the return values of the functions."
   ]
  },
  {
   "cell_type": "code",
   "execution_count": null,
   "metadata": {},
   "outputs": [],
   "source": [
    "?np.fft.fft # This is the main DFT function we will use."
   ]
  },
  {
   "cell_type": "code",
   "execution_count": null,
   "metadata": {},
   "outputs": [],
   "source": [
    "?np.fft.fftfreq  # This is a helper function to prepare a vector of frequencies."
   ]
  },
  {
   "cell_type": "code",
   "execution_count": null,
   "metadata": {},
   "outputs": [],
   "source": [
    "?np.arange  # Points in an evenly spaced interval."
   ]
  },
  {
   "cell_type": "markdown",
   "metadata": {
    "collapsed": true
   },
   "source": [
    "This approach is derived from a nice discussion on FFT found on the blog Glowing Python.\n",
    "\n",
    "First we will divide up time into `samplingInterval` sized chunks between 0 and 1.  This will aid in getting the x-axis scaled correctly so that frequency can be read directly off the DFT result.  You can take `samplingInterval` in seconds putting samplingRate in Hz.  Notice the approach here - we could have done this all in one line, but, by intelligently naming our variables and exposing the details of our thoughts the code is more readable:"
   ]
  },
  {
   "cell_type": "code",
   "execution_count": null,
   "metadata": {},
   "outputs": [],
   "source": [
    "%matplotlib inline\n",
    "import matplotlib.pyplot as plt\n",
    "import numpy as np\n",
    "\n",
    "samplingRate = 150.0\n",
    "samplingInterval = 1.0/samplingRate\n",
    "timeVector = np.arange(0, 1, samplingInterval)\n",
    "\n",
    "# Print out the first few elements so you can see what is going on:\n",
    "timeVector[0:10:]"
   ]
  },
  {
   "cell_type": "markdown",
   "metadata": {},
   "source": [
    "Next we decide on the frequency of our signal and create a list to have a signal to work with. "
   ]
  },
  {
   "cell_type": "code",
   "execution_count": null,
   "metadata": {},
   "outputs": [],
   "source": [
    "signalFrequency = 10.0;\n",
    "ourSignal = np.sin(2*np.pi*signalFrequency*timeVector) + 0.5*np.sin(2*np.pi*(2*signalFrequency)*timeVector)"
   ]
  },
  {
   "cell_type": "markdown",
   "metadata": {},
   "source": [
    "Plotting the input function for clarity:"
   ]
  },
  {
   "cell_type": "code",
   "execution_count": null,
   "metadata": {},
   "outputs": [],
   "source": [
    "fig = plt.figure()\n",
    "\n",
    "axes = fig.add_axes([0.1, 0.1, 0.8, 0.8])\n",
    "axes.plot(timeVector, ourSignal, 'r')\n",
    "axes.set_xlabel('Time')\n",
    "axes.set_ylabel('Signal')\n",
    "axes.set_title('Our Modest Signal');"
   ]
  },
  {
   "cell_type": "markdown",
   "metadata": {},
   "source": [
    "Using `numpy` to compute the DFT:"
   ]
  },
  {
   "cell_type": "code",
   "execution_count": null,
   "metadata": {
    "scrolled": false
   },
   "outputs": [],
   "source": [
    "n = ourSignal.size\n",
    "frequencies = np.fft.fftfreq(n, d=1.0/samplingRate)\n",
    "spectrum = np.abs(np.fft.fft(ourSignal))\n",
    "\n",
    "fig = plt.figure()\n",
    "\n",
    "axes = fig.add_axes([0.1, 0.1, 0.8, 0.8])\n",
    "\n",
    "axes.scatter(frequencies, spectrum, c='r', marker='s', alpha=0.4)\n",
    "\n",
    "axes.set_xlabel('Frequency')\n",
    "axes.set_ylabel('Amplitude')\n",
    "axes.set_title('Our Amplitude Spectrum');"
   ]
  },
  {
   "cell_type": "markdown",
   "metadata": {},
   "source": [
    "### Interactive Microscopy Demonstration (Optional)\n",
    "Original developed by C. Carter, translated to Python by D. Lewis\n",
    "\n",
    "---"
   ]
  },
  {
   "cell_type": "markdown",
   "metadata": {},
   "source": [
    "Transmission electron microscopy utilizes diffraction to determine crystal structures and develop contrast in images.  In this section of the lecture we will simulate the diffraction pattern of an atomic structure.  Using this diffraction pattern we will simulate using a diffraction aperture to reconstruct a phase contrast image."
   ]
  },
  {
   "cell_type": "code",
   "execution_count": null,
   "metadata": {},
   "outputs": [],
   "source": [
    "%matplotlib inline\n",
    "import numpy as np\n",
    "import matplotlib as mpl\n",
    "import matplotlib.pyplot as plt\n",
    "from numpy.fft import *\n",
    "\n",
    "def atomic_func(x,y):\n",
    "    param = 64.0\n",
    "    return (1+np.sin(4*(x+y)*2*np.pi/param))*(1+np.sin(2*(x-2*y)*2*np.pi/param))/4\n",
    "\n",
    "def aperture(X, Y, xoffset, yoffset, size):\n",
    "    return (X-xoffset)**2+(Y-yoffset)**2 > size**2"
   ]
  },
  {
   "cell_type": "markdown",
   "metadata": {},
   "source": [
    "We define two functions above:\n",
    "\n",
    "* `atomic_func` is used to provide an image function periodic in two dimensions from which the diffraction pattern will be constructed.  This can be thought of as the density of electrons in a solid that is used to approximate a crystal structure.\n",
    "* `aperture` returns a Boolean array that will be used to mask the diffraction pattern so that individual frequencies can be selected for image reconstruction.  `aperture` will return `True` or `False`."
   ]
  },
  {
   "cell_type": "code",
   "execution_count": null,
   "metadata": {},
   "outputs": [],
   "source": [
    "x = np.arange(0.0,256.0,1.0)\n",
    "y = np.arange(0.0,256.0,1.0)\n",
    "X,Y = np.meshgrid(x, y)\n",
    "\n",
    "Z = atomic_func(X,Y)"
   ]
  },
  {
   "cell_type": "markdown",
   "metadata": {},
   "source": [
    "The `Z` array holds the atomic image function."
   ]
  },
  {
   "cell_type": "code",
   "execution_count": null,
   "metadata": {},
   "outputs": [],
   "source": [
    "P = np.zeros(Z.shape,dtype=complex)\n",
    "K = np.zeros(Z.shape,dtype=complex)\n",
    "\n",
    "K = fftshift(fft2(Z, norm='ortho'))\n",
    "\n",
    "P = np.copy(K)\n",
    "P[np.where(aperture(X, Y, 128, 128, 3) & aperture(X, Y, 150, 128, 3))] = 0"
   ]
  },
  {
   "cell_type": "markdown",
   "metadata": {},
   "source": [
    "The `P` array holds the processed Fourier spectrum.  The values of `P` are set to zero when they are outside the aperture.  We use the `K` array to hold a opy of the image\n",
    "\n",
    "\n",
    "In this cell we create two more `numpy` arrays (there are other ways to do this) that have the same shape as Z. The `P` array we use to hold the processed Fourier spectrum.  The processing uses `numpy`'s Boolean indexing to set values in P equal to zero when they are \"outside\" the aperture.  When we get to the images below you'll see what is meant.\n",
    "\n",
    "Because Python passes by reference we need to call for a copy of K so that we can modify one without changing the other.\n",
    "\n",
    "From this processed spectrum we will create an image.  The K array holds the whole Fourier spectrum."
   ]
  },
  {
   "cell_type": "code",
   "execution_count": null,
   "metadata": {},
   "outputs": [],
   "source": [
    "Im = fftshift(ifft2(P))"
   ]
  },
  {
   "cell_type": "markdown",
   "metadata": {},
   "source": [
    "Above we reprocess `P` into the image `Im`."
   ]
  },
  {
   "cell_type": "code",
   "execution_count": null,
   "metadata": {},
   "outputs": [],
   "source": [
    "fig, axes = plt.subplots(nrows=1, ncols=3, figsize=(30,9))\n",
    "axes[0].imshow(Z, origin='lower')\n",
    "axes[1].imshow(abs(K),origin='lower', cmap=plt.get_cmap('pink'))\n",
    "aperture1 = plt.Circle((128,128),3**2,color='r', fill = False)\n",
    "aperture2 = plt.Circle((150,128),3**2,color='y', fill = False)\n",
    "axes[1].add_artist(aperture1)\n",
    "axes[1].add_artist(aperture2)\n",
    "axes[2].imshow(abs(Im)**2, origin='lower')\n",
    "plt.show()"
   ]
  },
  {
   "cell_type": "markdown",
   "metadata": {
    "collapsed": true
   },
   "source": [
    "### Homework\n",
    "----\n",
    "\n",
    "Apply the DFT to an image of your choosing.  Select the low frequency part of the DFT and regenerate the image (i.e. take the inverse FFT) from only these selected frequencies.  Use a Boolean selection to zero out parts of the frequency spectrum before you convert back.  To read an image in from disk, use the `ndimage` function from SciPy:\n",
    "\n",
    "```python\n",
    "from scipy.ndimage import imread\n",
    "img = imread('./images/pattern2.jpg', mode='L')\n",
    "```\n",
    "\n",
    "checking the data type of `img` will prove helpful."
   ]
  },
  {
   "cell_type": "markdown",
   "metadata": {
    "collapsed": true
   },
   "source": [
    "### Summary\n",
    "----\n",
    "\n",
    "* Integral transforms map one function space into another function space.  You can find books that include tables of Laplace and Fourier transforms.  Many other transforms exist - but the principle is the same.\n",
    "* The DFT organizes amplitude information in predictable yet non-intuitive ways.  Read the documentation for the functions you use!  \n",
    "* Integral transforms are a means for reducing the complexity of certain ODEs and PDEs.\n",
    "* Diffraction and diffusion are two example applications where integral transforms can be employed."
   ]
  },
  {
   "cell_type": "markdown",
   "metadata": {
    "collapsed": true
   },
   "source": [
    "### Reading Assignments and Practice\n",
    "----\n",
    "\n",
    "* Pam Champness' book on electron diffraction is a (relatively) easy read on diffraction.  You can always have a look at Cullity, Hammond, or any other book on structure and X-ray/electron characterization.\n",
    "* Practice taking the FFT of signals you construct by hand.  This is a good step when you are debugging a problem.  You should always have a test case available to determine if your work is correct."
   ]
  }
 ],
 "metadata": {
  "anaconda-cloud": {},
  "kernelspec": {
   "display_name": "Python 3",
   "language": "python",
   "name": "python3"
  },
  "language_info": {
   "codemirror_mode": {
    "name": "ipython",
    "version": 3
   },
   "file_extension": ".py",
   "mimetype": "text/x-python",
   "name": "python",
   "nbconvert_exporter": "python",
   "pygments_lexer": "ipython3",
   "version": "3.7.7"
  }
 },
 "nbformat": 4,
 "nbformat_minor": 1
}
